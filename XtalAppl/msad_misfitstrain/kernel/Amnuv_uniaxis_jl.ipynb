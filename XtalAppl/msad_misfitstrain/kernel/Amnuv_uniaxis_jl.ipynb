{
 "cells": [
  {
   "cell_type": "code",
   "execution_count": 1,
   "metadata": {},
   "outputs": [
    {
     "name": "stdout",
     "output_type": "stream",
     "text": [
      "54\n",
      "/home/wang/Documents/HEB/pf_distort/msad_microelasticity\n"
     ]
    }
   ],
   "source": [
    "using LinearAlgebra\n",
    "using IterTools\n",
    "using NPZ\n",
    "using FFTW\n",
    "using Base.Threads\n",
    "using PyPlot\n",
    "\n",
    "println(Threads.nthreads())\n",
    "# println(pwd())"
   ]
  },
  {
   "cell_type": "markdown",
   "metadata": {},
   "source": [
    "Interaction kernel generating program"
   ]
  },
  {
   "cell_type": "code",
   "execution_count": null,
   "metadata": {},
   "outputs": [
    {
     "data": {
      "text/plain": [
       "(ComplexF64[0.0 + 0.0im, 0.0 - 54.86825167237674im, 0.0 - 27.43412583618837im, 0.0 - 18.289417224125582im, 0.0 - 13.717062918094186im, 0.0 - 10.973650334475348im, 0.0 - 9.144708612062791im, 0.0 - 7.838321667482393im, 0.0 - 6.858531459047093im, 0.0 - 6.09647240804186im  …  0.0 + 6.217121518258872im, 0.0 + 6.9057004290404365im, 0.0 + 7.740469586557749im, 0.0 + 8.761372565058062im, 0.0 + 10.0136544130905im, 0.0 + 11.531003830677841im, 0.0 + 13.27508483923075im, 0.0 + 14.965939043975169im, 0.0 + 15.84478830850127im, 0.0 + 15.519682841370566im], ComplexF64[0.0 + 0.0im, 0.0 - 54.86825167237675im, 0.0 - 27.434125836188375im, 0.0 - 18.289417224125582im, 0.0 - 13.717062918094188im, 0.0 - 10.973650334475346im, 0.0 - 9.144708612062791im, 0.0 - 7.838321667482393im, 0.0 - 6.858531459047094im, 0.0 - 6.09647240804186im  …  0.0 + 6.163846497831909im, 0.0 + 6.853594709749645im, 0.0 + 7.695176202475175im, 0.0 + 8.734396432590609im, 0.0 + 10.028441809145654im, 0.0 + 11.635410007667215im, 0.0 + 13.564481930942991im, 0.0 + 15.608649589907152im, 0.0 + 17.035876953388787im, 0.0 + 17.551178311713375im], ComplexF64[0.0 + 0.0im, 0.0 - 36.048051642604264im, 0.0 - 18.024025821302132im, 0.0 - 12.01601721420142im, 0.0 - 9.012012910651066im, 0.0 - 7.209610328520852im, 0.0 - 6.00800860710071im, 0.0 - 5.149721663229181im, 0.0 - 4.506006455325533im, 0.0 - 4.005339071400474im  …  0.0 + 3.1129616105755433im, 0.0 + 3.389757071148759im, 0.0 + 3.719967156017006im, 0.0 + 4.123580144712287im, 0.0 + 4.6370857103070025im, 0.0 + 5.3398029704558585im, 0.0 + 6.439512504943833im, 0.0 + 8.563082403527433im, 0.0 + 13.568330200779677im, 0.0 + 24.34428917890107im])"
      ]
     },
     "execution_count": 37,
     "metadata": {},
     "output_type": "execute_result"
    }
   ],
   "source": [
    "function green_k(k_vec, c_ij, ijkl2ij_dict)\n",
    "    k_norm = k_vec/norm(k_vec)\n",
    "    zij = Complex.(zeros(3,3))\n",
    "    for (i, k) in product(1:3, 1:3)\n",
    "        for (j, l) in product(1:3, 1:3)\n",
    "            ji_denote = ijkl2ij_dict[(j,i)]\n",
    "            kl_denote = ijkl2ij_dict[(k,l)]\n",
    "            c_voigt = c_ij[ji_denote, kl_denote]\n",
    "            zij[i,k] += c_voigt * k_norm[j] * k_norm[l]\n",
    "        end\n",
    "    end\n",
    "\n",
    "    zij_inv = transpose(inv(zij))\n",
    "    return zij_inv/norm(k_vec)^2\n",
    "end\n",
    "\n",
    "function prefac_tensor(k_vec, c_ij, ijkl2ij_dict)\n",
    "\n",
    "    if norm(k_vec) == 0\n",
    "        return Complex.(zeros(3))\n",
    "    end\n",
    "\n",
    "    g_tensor = green_k(k_vec, c_ij, ijkl2ij_dict)\n",
    "    prefac_list = Complex.(zeros(3))\n",
    "\n",
    "    for i in 1:3\n",
    "        for (j,l,m,n) in product(1:3, 1:3, 1:3, 1:3)\n",
    "\n",
    "            jl_denote = ijkl2ij_dict[(j,l)]\n",
    "            mn_denote = ijkl2ij_dict[(m,n)]\n",
    "            c_voijt = c_ij[jl_denote, mn_denote]\n",
    "            kl = k_vec[l]\n",
    "            gij = g_tensor[i,j]\n",
    "\n",
    "            prefac_list[i] += -im * c_voijt * kl * gij\n",
    "\n",
    "        end\n",
    "    end\n",
    "\n",
    "    return prefac_list \n",
    "end\n",
    "\n",
    "#* some constants\n",
    "mjm2eva = 6.24150965*1e-5 #* convert mJ/m^2 to eV/Å^2\n",
    "eva2gpa = 160.2176621 #* convert eV/Å^3 to GPa\n",
    "specie_denote = \"50Ti50ZrB2\" #TODO specie denotion\n",
    "\n",
    "#* lattice initialize\n",
    "nx, ny, nz = 32,32,32 #TODO nx*ny*nz prim cells\n",
    "a, c = 3.11, 3.39 #TODO lattice constant\n",
    "\n",
    "#TODO cij part (1120-0001-1100)\n",
    "cij = npzread(\"dataset/cij/TiZrB_cij_$(a)_$(c)_5005000_try_1_fin.npy\")\n",
    "\n",
    "ijkl2ij_dict = Dict(\n",
    "    (1,1)=>1, (2,2)=>2, (3,3)=>3,\n",
    "    (2,3)=>4, (1,3)=>5, (1,2)=>6,\n",
    "    (2,1)=>6, (3,1)=>5, (3,2)=>4)\n",
    "cij = cij/eva2gpa #* convert to eV/Å^3\n",
    "\n",
    "#* grid sampling based on atomic spacing\n",
    "lx, ly, lz = a*nx, c*ny, sqrt(3)*a*nz\n",
    "len_nx, len_ny, len_nz = nx, ny, nz \n",
    "#* initialize frequency grid \n",
    "len_kx, len_ky, len_kz = len_nx, len_ny, len_nz\n",
    "kx = fftfreq(len_kx, len_nx/lx)*2*pi \n",
    "ky = fftfreq(len_ky, len_ny/ly)*2*pi\n",
    "kz = fftfreq(len_kz, len_nz/lz)*2*pi\n",
    "dkx = kx[2] - kx[1]\n",
    "dkz = kz[2] - kz[1] \n",
    "dky = ky[2] - ky[1]\n",
    "dxyz = dkx*dky*dkz\n",
    "len_kxy = len_kx*len_ky\n",
    "\n",
    "kz_sample = length(kz)\n",
    "kz = Complex.(kz)\n",
    "prefac_mesh = Complex.(zeros((len_kxy*kz_sample, 3)))\n",
    "prod_kxky = collect(product(1:len_kx, 1:len_ky))\n",
    "kxyz_mesh = (zeros((len_kxy*kz_sample, 3)))\n",
    "\n",
    "Threads.@threads for kxy_i in 1:len_kxy \n",
    "\n",
    "    ind_kx, ind_ky = prod_kxky[kxy_i]\n",
    "    kx_val, ky_val = kx[ind_kx], ky[ind_ky]\n",
    "\n",
    "    for kz_i in 1:kz_sample\n",
    "        k_vec = [kx_val, ky_val, kz[kz_i]]\n",
    "        prefac = prefac_tensor(k_vec, cij, ijkl2ij_dict)\n",
    "        prefac_mesh[(kxy_i-1)*kz_sample+kz_i,:] .= prefac\n",
    "        kxyz_mesh[(kxy_i-1)*kz_sample+kz_i,:] .= k_vec\n",
    "    end \n",
    "end\n",
    "\n",
    "prefac_1, prefac_2, prefac_3 = prefac_mesh[:,1], prefac_mesh[:,2], prefac_mesh[:,3]"
   ]
  },
  {
   "cell_type": "code",
   "execution_count": 38,
   "metadata": {},
   "outputs": [],
   "source": [
    "try\n",
    "    mkdir(\"kernel/runs/$(specie_denote)\")\n",
    "catch e\n",
    "    println(\"directory already exists\") \n",
    "end\n",
    "\n",
    "sav_pth = \"kernel/runs/$(specie_denote)/$(specie_denote)_$(a)_$(c)_$(nx)_$(ny)_$(nz)\"\n",
    "npzwrite(sav_pth*\"_kmesh.npy\", kxyz_mesh[2:end, :])\n",
    "\n",
    "npzwrite(sav_pth*\"_lambda1.npy\", prefac_1[2:end, :])\n",
    "npzwrite(sav_pth*\"_lambda2.npy\", prefac_2[2:end, :])\n",
    "npzwrite(sav_pth*\"_lambda3.npy\", prefac_3[2:end, :])"
   ]
  }
 ],
 "metadata": {
  "kernelspec": {
   "display_name": "Julia (54 threads) 1.9.3",
   "language": "julia",
   "name": "julia-_54-threads_-1.9"
  },
  "language_info": {
   "file_extension": ".jl",
   "mimetype": "application/julia",
   "name": "julia",
   "version": "1.9.3"
  }
 },
 "nbformat": 4,
 "nbformat_minor": 2
}
