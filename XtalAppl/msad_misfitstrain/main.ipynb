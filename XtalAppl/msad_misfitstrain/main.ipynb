{
 "cells": [
  {
   "cell_type": "code",
   "execution_count": 3,
   "metadata": {},
   "outputs": [],
   "source": [
    "import numpy as np\n",
    "import pickle\n",
    "import sympy as sp\n",
    "import multiprocessing as mp    \n",
    "import os\n",
    "import json\n",
    "# print(os.getcwd())\n",
    "\n",
    "def create_dir(directory):\n",
    "    if not os.path.exists(directory):\n",
    "        os.makedirs(directory)\n",
    "    else:\n",
    "        print(\"Directory already existed : \", directory)\n",
    "    return directory"
   ]
  },
  {
   "cell_type": "markdown",
   "metadata": {},
   "source": [
    "Microelasticity modelling on mean square atomic displacement (MSAD) based on high entropy diborides (HEBs) lattice ($P6/mmm$; $11\\bar{2}0-1\\bar{1}00-0001$ coordinate system)."
   ]
  },
  {
   "cell_type": "code",
   "execution_count": null,
   "metadata": {},
   "outputs": [
    {
     "data": {
      "text/plain": [
       "({'1_microEmodel': 3.10809145995341,\n",
       "  '2_microEmodel': 18.5846509325613,\n",
       "  '3_microEmodel': 3.18063587056644},\n",
       " 24.8733782630811)"
      ]
     },
     "execution_count": 76,
     "metadata": {},
     "output_type": "execute_result"
    }
   ],
   "source": [
    "def k_eval(lambda_k, kxyz):\n",
    "    kx, ky, kz = kxyz \n",
    "    return np.abs(lambda_k)**2*np.exp(-a**2*kx**2-c**2*ky**2-3*a**2*kz**2)\n",
    "\n",
    "specie_denote = '50Ti50ZrB2'\n",
    "a, c = 3.11, 3.39\n",
    "ti, v, zr = 0.5, 0, 0.5\n",
    "nx, ny, nz = 32, 32, 32\n",
    "eigenstrain_mode_list = ['a', 'c', 'a_sqrt3']\n",
    "lattice_axis_list = ['1', '2', '3']\n",
    "\n",
    "#* lattice vector and cluster volume\n",
    "lattice_vec = np.array([\n",
    "    [a, 0, 0],\n",
    "    [0, c, 0],\n",
    "    [0, 0, a*np.sqrt(3)]\n",
    "])\n",
    "lattice_vol = np.linalg.det(lattice_vec)\n",
    "v_tmb2 = lattice_vol/2\n",
    "lattice_vol_tot = lattice_vol*nx*ny*nz\n",
    "\n",
    "msd_dict = {}\n",
    "tot_msd = 0\n",
    "xti, xv, xzr = sp.symbols('TiB_2 VB_2 ZrB_2')\n",
    "for eigenstrain_mode, lattice_axis in zip(eigenstrain_mode_list, lattice_axis_list):\n",
    "\n",
    "    #* load interaction kernel\n",
    "    kernel_savpth = f'kernel/runs/{specie_denote}/{specie_denote}_{a}_{c}_{nx}_{ny}_{nz}'\n",
    "    kmesh = np.load(f'{kernel_savpth}_kmesh.npy')\n",
    "    prefac = np.load(f'{kernel_savpth}_lambda{lattice_axis}.npy')\n",
    "\n",
    "    #* load eigenstrain\n",
    "    eigen_express = pickle.load(open(f'eigenstrain_express/eigenstrain_{eigenstrain_mode}.pkl', 'rb'))\n",
    "    eigen_ti, eigen_v, eigen_zr = eigen_express\n",
    "    ti_eigen = eigen_ti.evalf(subs={xti:ti, xv:v, xzr:zr})\n",
    "    v_eigen = eigen_v.evalf(subs={xti:ti, xv:v, xzr:zr})\n",
    "    zr_eigen = eigen_zr.evalf(subs={xti:ti, xv:v, xzr:zr})\n",
    "\n",
    "    var_eigenstrain = ti*ti_eigen**2 + v*v_eigen**2 + zr*zr_eigen**2\n",
    "\n",
    "    #* evaluate the displacement's variance per axis\n",
    "    p = mp.Pool(54)\n",
    "    kernel_result = p.starmap(k_eval, zip(prefac, kmesh))\n",
    "\n",
    "    msd = v_tmb2*var_eigenstrain/lattice_vol_tot*np.sum(kernel_result)*1e4 #* in pm^2\n",
    "    msd_dict[f'{lattice_axis}_microEmodel'] = msd\n",
    "    tot_msd += msd\n",
    "\n",
    "sav_pth = f'runs/{specie_denote}/{specie_denote}_{a}_{c}_{nx}_{ny}_{nz}_msad.pkl'\n",
    "create_dir(os.path.dirname(sav_pth))\n",
    "pickle.dump(msd_dict, open(sav_pth, 'wb'))\n",
    "\n",
    "msd_dict, tot_msd"
   ]
  }
 ],
 "metadata": {
  "kernelspec": {
   "display_name": "Python 3",
   "language": "python",
   "name": "python3"
  },
  "language_info": {
   "codemirror_mode": {
    "name": "ipython",
    "version": 3
   },
   "file_extension": ".py",
   "mimetype": "text/x-python",
   "name": "python",
   "nbconvert_exporter": "python",
   "pygments_lexer": "ipython3",
   "version": "3.11.4"
  }
 },
 "nbformat": 4,
 "nbformat_minor": 2
}
