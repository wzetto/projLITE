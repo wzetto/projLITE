{
 "cells": [
  {
   "cell_type": "markdown",
   "metadata": {},
   "source": [
    "Simple program for special quasirandom structure (SQS) derivation (Phys. Rev. Lett. **65**, 353 (1990)). Take $P6/mmm$ lattice as example. For high-precision algorithm one may refer to (Phys. Rev. Materials **5**, 113803 (2021)).\n",
    "\n",
    "<figure>\n",
    "    <img src=\"utils/cij_1100_bulk.png\" width=\"400px\"/>\n",
    "    <figcaption>Randomization target is the atomic arrangement of transition metal elements.</figcaption>\n",
    "</figure>"
   ]
  },
  {
   "cell_type": "code",
   "execution_count": 1,
   "metadata": {},
   "outputs": [
    {
     "name": "stdout",
     "output_type": "stream",
     "text": [
      "8\n"
     ]
    }
   ],
   "source": [
    "using Random\n",
    "using LinearAlgebra\n",
    "using NPZ\n",
    "using Combinatorics\n",
    "using Statistics\n",
    "using JLD2\n",
    "using Distributed\n",
    "using JSON\n",
    "using Base.Threads\n",
    "using IJulia\n",
    "using Profile\n",
    "using BenchmarkTools\n",
    "using .GC\n",
    "using PyPlot\n",
    "\n",
    "function zero_clip(num, x)\n",
    "    if x == 0\n",
    "        return 0\n",
    "    end\n",
    "    \n",
    "    return num\n",
    "end\n",
    "\n",
    "println(Threads.nthreads())\n",
    "pth_loadbase = \"\"\n",
    "@everywhere include(\"$(pth_loadbase)cpr_rspace.jl\")\n",
    "@everywhere include(\"$(pth_loadbase)basis_func_quin.jl\")\n",
    "@everywhere include(\"$(pth_loadbase)cpr_sqs.jl\")"
   ]
  },
  {
   "cell_type": "code",
   "execution_count": null,
   "metadata": {},
   "outputs": [],
   "source": [
    "atom_num = 64 #TODO number of atoms\n",
    "pth_loadbase = \"\"\n",
    "basis_norm_dict_pth = \"$(pth_loadbase)utils/basis_norm_dict_jl_quin.json\" \n",
    "\n",
    "ind_cluster_dict_pth = \"$(pth_loadbase)utils/1100/tm_4_4_2_64/cluster_ind_4_4_2_jl.json\"\n",
    "basis_norm_dict = JSON.parsefile(basis_norm_dict_pth)\n",
    "ind_cluster_dict = JSON.parsefile(ind_cluster_dict_pth)\n",
    "\n",
    "symbol_list_pth = \"$(pth_loadbase)utils/symbol_list_240111_6nn.json\"\n",
    "symbol_list = JSON.parsefile(symbol_list_pth)\n",
    "println(length(symbol_list))\n",
    "\n",
    "config_info = config(\n",
    "        ind_cluster_dict,\n",
    "        symbol_list,\n",
    "        basis_norm_dict,\n",
    "        # cluster_norm_dict,\n",
    "        true, true, true, true)"
   ]
  },
  {
   "cell_type": "markdown",
   "metadata": {},
   "source": [
    "Main part"
   ]
  },
  {
   "cell_type": "code",
   "execution_count": null,
   "metadata": {},
   "outputs": [],
   "source": [
    "function spin_exchange(sigma, action)\n",
    "    sigma_n = copy(sigma)\n",
    "    sigma_n[action[1]], sigma_n[action[2]] = sigma[action[2]], sigma[action[1]]\n",
    "    return sigma_n\n",
    "end\n",
    "\n",
    "compo_list = Matrix{Float64}([\n",
    "    0 0.3 0.4 0.3 0;\n",
    "]) #* composition\n",
    "\n",
    "compo_denote = join(convert(Vector{Int64}, round.(compo_list[1,:]*100),), \"\")\n",
    "#TODO Set the path\n",
    "system_denote = \"ter_Cij\"\n",
    "sav_pth = \"sqs_zoo\"\n",
    "meta_iter = 12\n",
    "atom_num = 64 #TODO number of transition metal atom\n",
    "lagrange_list = LinRange(1e-5, 1e-3, meta_iter)\n",
    "\n",
    "# Threads.@threads for meta_i in 1:meta_iter\n",
    "for meta_i in 1:meta_iter\n",
    "\n",
    "    #TODO specify the MC steps\n",
    "    mc_iter = 10000\n",
    "    lagrange = lagrange_list[meta_i]\n",
    "    # lagrange = 1e-5\n",
    "    temp = 2\n",
    "    res_min = Inf\n",
    "    ele_list_min, cprvec_min = nothing, nothing\n",
    "    res_list = []\n",
    "    global res_list\n",
    "    cprvec_sqs = main_sqs(config_info, compo_list)[1] #TODO as the ground truth\n",
    "\n",
    "    #TODO rule for sequence generation\n",
    "    ele_list = ele_list_gen(compo_list[1,:], atom_num, 1, \"randchoice\")\n",
    "    cpr_sigma = main_rspace(1:1, config_info, ele_list)[1]\n",
    "    res_raw = norm(cpr_sigma.-cprvec_sqs)\n",
    "\n",
    "    for i in 1:mc_iter \n",
    "        temp = exp(-i/100)\n",
    "        action = rand(1:atom_num, 2)\n",
    "        ele_list_n = spin_exchange(ele_list, action)\n",
    "        cpr_sigma_n = main_rspace(1:1, config_info, ele_list_n)[1]\n",
    "        res_n = norm(cpr_sigma_n.-cprvec_sqs)\n",
    "        penalize = maximum(abs.(cpr_sigma_n.-cprvec_sqs))*lagrange\n",
    "        res_n += penalize \n",
    "        append!(res_list, res_n)\n",
    "\n",
    "        if minimum([1, exp((res_raw - res_n)/temp)]) > rand()\n",
    "            ele_list = copy(ele_list_n)\n",
    "            res_raw = copy(res_n)\n",
    "            if res_n < res_min\n",
    "                res_min = copy(res_n)\n",
    "                cprvec_min = copy(cpr_sigma_n)\n",
    "                ele_list_min = copy(ele_list)\n",
    "            end\n",
    "        end\n",
    "    end\n",
    "    npzwrite(joinpath(sav_pth, \"sqs_$(system_denote)_$(meta_i)_$(atom_num)_$(compo_denote).npy\"), ele_list_min)\n",
    "end"
   ]
  }
 ],
 "metadata": {
  "kernelspec": {
   "display_name": "Julia 1.11.1",
   "language": "julia",
   "name": "julia-1.11"
  },
  "language_info": {
   "file_extension": ".jl",
   "mimetype": "application/julia",
   "name": "julia",
   "version": "1.11.1"
  }
 },
 "nbformat": 4,
 "nbformat_minor": 2
}
